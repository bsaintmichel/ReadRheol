{
 "cells": [
  {
   "cell_type": "markdown",
   "metadata": {},
   "source": [
    "#### Fonctions de base"
   ]
  },
  {
   "cell_type": "code",
   "execution_count": 9,
   "metadata": {},
   "outputs": [
    {
     "name": "stdout",
     "output_type": "stream",
     "text": [
      "read_rheology > File type is TA.\n",
      "------------- Step list in DataFrame --------------------\n",
      "  * Step n°0 \t :                 Peak hold\t is a              | Duration :   118.4 s | Total time is :   118.4 s\n",
      "  * Step n°1 \t :                Time sweep\t is a              | Duration :   300.2 s | Total time is :   411.5 s\n",
      "  * Step n°2 \t :                Flow sweep\t is a              | Duration :   432.7 s | Total time is :   836.6 s\n",
      "  * Step n°3 \t :                Flow sweep\t is a              | Duration :   431.6 s | Total time is :  1261.0 s\n",
      "  * Step n°4 \t :                 Peak hold\t is a              | Duration :   118.4 s | Total time is :  1379.4 s\n",
      "  * Step n°5 \t :                Time sweep\t is a              | Duration :   300.1 s | Total time is :  1672.4 s\n",
      "  * Step n°6 \t :         Stress relaxation\t is a              | Duration : 10670.3 s | Total time is : 12342.7 s\n",
      "  * Step n°7 \t :                 Peak hold\t is a              | Duration :   118.4 s | Total time is : 12461.1 s\n",
      "  * Step n°8 \t :                Time sweep\t is a              | Duration :   300.6 s | Total time is : 12754.7 s\n",
      "  * Step n°9 \t :                 Peak hold\t is a              | Duration :     2.8 s | Total time is : 12757.5 s\n",
      "  * Step n°10 \t :         Stress relaxation\t is a              | Duration : 10670.3 s | Total time is : 23427.8 s\n",
      "  * Step n°11 \t :                 Peak hold\t is a              | Duration :   118.4 s | Total time is : 23546.2 s\n",
      "  * Step n°12 \t :                Time sweep\t is a              | Duration :   301.1 s | Total time is : 23840.7 s\n",
      "  * Step n°13 \t :                 Peak hold\t is a              | Duration :     2.7 s | Total time is : 23843.3 s\n",
      "  * Step n°14 \t :         Stress relaxation\t is a              | Duration : 10670.3 s | Total time is : 34513.6 s\n",
      "  * Step n°15 \t :                 Peak hold\t is a              | Duration :   118.4 s | Total time is : 34632.1 s\n",
      "  * Step n°16 \t :                Time sweep\t is a              | Duration :   301.0 s | Total time is : 34926.5 s\n",
      "  * Step n°17 \t :                 Peak hold\t is a              | Duration :     2.6 s | Total time is : 34929.0 s\n",
      "  * Step n°18 \t :         Stress relaxation\t is a              | Duration : 10670.3 s | Total time is : 45599.3 s\n",
      "  * Step n°19 \t :                 Peak hold\t is a              | Duration :   118.4 s | Total time is : 45717.8 s\n",
      "  * Step n°20 \t :                Time sweep\t is a              | Duration :   302.7 s | Total time is : 46013.4 s\n",
      "  * Step n°21 \t :           Amplitude sweep\t is a              | Duration :   217.6 s | Total time is : 46224.5 s\n",
      "---------------------------------------------------------\n",
      "assign_steps > step : 2 | Assigning as : flowcurve\n",
      "assign_steps > step : 3 | Assigning as : flowcurve\n",
      "plot_flowcurve > fit for step 2 : 9.60 + 5.88 γ^(0.37)\n",
      "plot_flowcurve > fit for step 3 : 0.23 + 16.20 γ^(0.21)\n"
     ]
    },
    {
     "data": {
      "image/png": "[encoded data removed]",
      "text/plain": [
       "<Figure size 640x480 with 1 Axes>"
      ]
     },
     "metadata": {},
     "output_type": "display_data"
    }
   ],
   "source": [
    "import rheol_functions as rh\n",
    "import matplotlib.cm as cm\n",
    "\n",
    "# Load either file\n",
    "# file = './Carbopol_AntonPaar.csv'\n",
    "# file = './Carbopol_Malvern.csv'\n",
    "file = './Carbopol_TA.txt'\n",
    "# file = 'Z:/Kinexus/Carbopol_20220625_0.1pc_Omar.csv'\n",
    "\n",
    "data = rh.read_rheology(file)                       # Read the file\n",
    "rh.list_steps(data)                                 # List all the steps\n",
    "data = rh.assign_steps(data, [2,3], 'flowcurve')    # Say that steps 3 and 4 are `flowcurve`s\n",
    "flowcurves = rh.slice(data, 'flowcurve')             # Select step 3 and 4 that have previously been assigned as `flowcurve`\n",
    "fig, ax, fits = rh.plot_flowcurve(flowcurves, log_yaxis=False)            # Plot the flow curves of steps 3 and 4"
   ]
  },
  {
   "cell_type": "markdown",
   "metadata": {},
   "source": [
    "-------------------------------------------------\n",
    "\n",
    "### Your workspace !"
   ]
  },
  {
   "cell_type": "markdown",
   "metadata": {},
   "source": [
    "Your text here, comments and code below in the Python cell."
   ]
  },
  {
   "cell_type": "code",
   "execution_count": 2,
   "metadata": {},
   "outputs": [
    {
     "ename": "NameError",
     "evalue": "name 'flowcurves' is not defined",
     "output_type": "error",
     "traceback": [
      "\u001b[1;31m---------------------------------------------------------------------------\u001b[0m",
      "\u001b[1;31mNameError\u001b[0m                                 Traceback (most recent call last)",
      "\u001b[1;32md:\\Brice\\Python\\rheol\\ReadRheology.ipynb Cell 5\u001b[0m line \u001b[0;36m3\n\u001b[0;32m      <a href='vscode-notebook-cell:/d%3A/Brice/Python/rheol/ReadRheology.ipynb#W4sZmlsZQ%3D%3D?line=0'>1</a>\u001b[0m \u001b[39mimport\u001b[39;00m \u001b[39mmatplotlib\u001b[39;00m\u001b[39m.\u001b[39;00m\u001b[39mpyplot\u001b[39;00m \u001b[39mas\u001b[39;00m \u001b[39mplt\u001b[39;00m\n\u001b[0;32m      <a href='vscode-notebook-cell:/d%3A/Brice/Python/rheol/ReadRheology.ipynb#W4sZmlsZQ%3D%3D?line=1'>2</a>\u001b[0m fig, ax \u001b[39m=\u001b[39m plt\u001b[39m.\u001b[39msubplots() \n\u001b[1;32m----> <a href='vscode-notebook-cell:/d%3A/Brice/Python/rheol/ReadRheology.ipynb#W4sZmlsZQ%3D%3D?line=2'>3</a>\u001b[0m ax\u001b[39m.\u001b[39mloglog(flowcurves[\u001b[39m'\u001b[39m\u001b[39mshearrate\u001b[39m\u001b[39m'\u001b[39m], flowcurves[\u001b[39m'\u001b[39m\u001b[39mstress\u001b[39m\u001b[39m'\u001b[39m], \u001b[39m'\u001b[39m\u001b[39m+\u001b[39m\u001b[39m'\u001b[39m)\n\u001b[0;32m      <a href='vscode-notebook-cell:/d%3A/Brice/Python/rheol/ReadRheology.ipynb#W4sZmlsZQ%3D%3D?line=3'>4</a>\u001b[0m ax\u001b[39m.\u001b[39mloglog(flowcurves[\u001b[39m'\u001b[39m\u001b[39mshearrate\u001b[39m\u001b[39m'\u001b[39m], \u001b[39m1.15\u001b[39m\u001b[39m*\u001b[39mflowcurves[\u001b[39m'\u001b[39m\u001b[39mshearrate\u001b[39m\u001b[39m'\u001b[39m]\u001b[39m*\u001b[39m\u001b[39m*\u001b[39m\u001b[39m0.42\u001b[39m\u001b[39m+\u001b[39m\u001b[39m1.02\u001b[39m, \u001b[39m'\u001b[39m\u001b[39m-\u001b[39m\u001b[39m'\u001b[39m)\n",
      "\u001b[1;31mNameError\u001b[0m: name 'flowcurves' is not defined"
     ]
    },
    {
     "data": {
      "image/png": "[encoded data removed]",
      "text/plain": [
       "<Figure size 640x480 with 1 Axes>"
      ]
     },
     "metadata": {},
     "output_type": "display_data"
    }
   ],
   "source": [
    "import matplotlib.pyplot as plt\n",
    "fig, ax = plt.subplots() \n",
    "ax.loglog(flowcurves['shearrate'], flowcurves['stress'], '+')\n",
    "ax.loglog(flowcurves['shearrate'], 1.15*flowcurves['shearrate']**0.42+1.02, '-')\n"
   ]
  },
  {
   "cell_type": "markdown",
   "metadata": {},
   "source": [
    "-------------------------------------------------\n",
    "\n",
    "#### LAOS (Anton Paar)\n",
    "\n",
    "The Anton Paar LAOS Step n°7 has multiple oscillation amplitudes, from low to high values. Let's plot them altogether with a different color for each plot, and without additional normalisation. The script here takes advantage of the `proj_fourier()` and `build_fourier()` functions allowing easy projection on Fourier __series__ (no Fourier transform here)."
   ]
  },
  {
   "cell_type": "code",
   "execution_count": null,
   "metadata": {},
   "outputs": [
    {
     "ename": "KeyError",
     "evalue": "'raw'",
     "output_type": "error",
     "traceback": [
      "\u001b[1;31m---------------------------------------------------------------------------\u001b[0m",
      "\u001b[1;31mKeyError\u001b[0m                                  Traceback (most recent call last)",
      "File \u001b[1;32mc:\\Users\\saint-michel\\AppData\\Local\\Programs\\Python\\Python311\\Lib\\site-packages\\pandas\\core\\indexes\\base.py:3790\u001b[0m, in \u001b[0;36mIndex.get_loc\u001b[1;34m(self, key)\u001b[0m\n\u001b[0;32m   3789\u001b[0m \u001b[39mtry\u001b[39;00m:\n\u001b[1;32m-> 3790\u001b[0m     \u001b[39mreturn\u001b[39;00m \u001b[39mself\u001b[39;49m\u001b[39m.\u001b[39;49m_engine\u001b[39m.\u001b[39;49mget_loc(casted_key)\n\u001b[0;32m   3791\u001b[0m \u001b[39mexcept\u001b[39;00m \u001b[39mKeyError\u001b[39;00m \u001b[39mas\u001b[39;00m err:\n",
      "File \u001b[1;32mindex.pyx:152\u001b[0m, in \u001b[0;36mpandas._libs.index.IndexEngine.get_loc\u001b[1;34m()\u001b[0m\n",
      "File \u001b[1;32mindex.pyx:181\u001b[0m, in \u001b[0;36mpandas._libs.index.IndexEngine.get_loc\u001b[1;34m()\u001b[0m\n",
      "File \u001b[1;32mpandas\\_libs\\hashtable_class_helper.pxi:7080\u001b[0m, in \u001b[0;36mpandas._libs.hashtable.PyObjectHashTable.get_item\u001b[1;34m()\u001b[0m\n",
      "File \u001b[1;32mpandas\\_libs\\hashtable_class_helper.pxi:7088\u001b[0m, in \u001b[0;36mpandas._libs.hashtable.PyObjectHashTable.get_item\u001b[1;34m()\u001b[0m\n",
      "\u001b[1;31mKeyError\u001b[0m: 'raw'",
      "\nThe above exception was the direct cause of the following exception:\n",
      "\u001b[1;31mKeyError\u001b[0m                                  Traceback (most recent call last)",
      "\u001b[1;32md:\\Brice\\Python\\rheol\\ReadRheology.ipynb Cell 7\u001b[0m line \u001b[0;36m5\n\u001b[0;32m      <a href='vscode-notebook-cell:/d%3A/Brice/Python/rheol/ReadRheology.ipynb#W6sZmlsZQ%3D%3D?line=1'>2</a>\u001b[0m \u001b[39mimport\u001b[39;00m \u001b[39mmatplotlib\u001b[39;00m\u001b[39m.\u001b[39;00m\u001b[39mcm\u001b[39;00m \u001b[39mas\u001b[39;00m \u001b[39mcm\u001b[39;00m\n\u001b[0;32m      <a href='vscode-notebook-cell:/d%3A/Brice/Python/rheol/ReadRheology.ipynb#W6sZmlsZQ%3D%3D?line=2'>3</a>\u001b[0m \u001b[39mimport\u001b[39;00m \u001b[39mmatplotlib\u001b[39;00m\u001b[39m.\u001b[39;00m\u001b[39mpyplot\u001b[39;00m \u001b[39mas\u001b[39;00m \u001b[39mplt\u001b[39;00m\n\u001b[1;32m----> <a href='vscode-notebook-cell:/d%3A/Brice/Python/rheol/ReadRheology.ipynb#W6sZmlsZQ%3D%3D?line=4'>5</a>\u001b[0m rawlaos \u001b[39m=\u001b[39m data[data[\u001b[39m'\u001b[39;49m\u001b[39mraw\u001b[39;49m\u001b[39m'\u001b[39;49m] \u001b[39m&\u001b[39m (data[\u001b[39m'\u001b[39m\u001b[39mstep\u001b[39m\u001b[39m'\u001b[39m] \u001b[39m==\u001b[39m \u001b[39m7\u001b[39m)]\n\u001b[0;32m      <a href='vscode-notebook-cell:/d%3A/Brice/Python/rheol/ReadRheology.ipynb#W6sZmlsZQ%3D%3D?line=5'>6</a>\u001b[0m synlaos \u001b[39m=\u001b[39m data[\u001b[39m~\u001b[39mdata[\u001b[39m'\u001b[39m\u001b[39mraw\u001b[39m\u001b[39m'\u001b[39m] \u001b[39m&\u001b[39m (data[\u001b[39m'\u001b[39m\u001b[39mstep\u001b[39m\u001b[39m'\u001b[39m] \u001b[39m==\u001b[39m \u001b[39m7\u001b[39m)]\n\u001b[0;32m      <a href='vscode-notebook-cell:/d%3A/Brice/Python/rheol/ReadRheology.ipynb#W6sZmlsZQ%3D%3D?line=7'>8</a>\u001b[0m cmap \u001b[39m=\u001b[39m cm\u001b[39m.\u001b[39mmagma_r\n",
      "File \u001b[1;32mc:\\Users\\saint-michel\\AppData\\Local\\Programs\\Python\\Python311\\Lib\\site-packages\\pandas\\core\\frame.py:3896\u001b[0m, in \u001b[0;36mDataFrame.__getitem__\u001b[1;34m(self, key)\u001b[0m\n\u001b[0;32m   3894\u001b[0m \u001b[39mif\u001b[39;00m \u001b[39mself\u001b[39m\u001b[39m.\u001b[39mcolumns\u001b[39m.\u001b[39mnlevels \u001b[39m>\u001b[39m \u001b[39m1\u001b[39m:\n\u001b[0;32m   3895\u001b[0m     \u001b[39mreturn\u001b[39;00m \u001b[39mself\u001b[39m\u001b[39m.\u001b[39m_getitem_multilevel(key)\n\u001b[1;32m-> 3896\u001b[0m indexer \u001b[39m=\u001b[39m \u001b[39mself\u001b[39;49m\u001b[39m.\u001b[39;49mcolumns\u001b[39m.\u001b[39;49mget_loc(key)\n\u001b[0;32m   3897\u001b[0m \u001b[39mif\u001b[39;00m is_integer(indexer):\n\u001b[0;32m   3898\u001b[0m     indexer \u001b[39m=\u001b[39m [indexer]\n",
      "File \u001b[1;32mc:\\Users\\saint-michel\\AppData\\Local\\Programs\\Python\\Python311\\Lib\\site-packages\\pandas\\core\\indexes\\base.py:3797\u001b[0m, in \u001b[0;36mIndex.get_loc\u001b[1;34m(self, key)\u001b[0m\n\u001b[0;32m   3792\u001b[0m     \u001b[39mif\u001b[39;00m \u001b[39misinstance\u001b[39m(casted_key, \u001b[39mslice\u001b[39m) \u001b[39mor\u001b[39;00m (\n\u001b[0;32m   3793\u001b[0m         \u001b[39misinstance\u001b[39m(casted_key, abc\u001b[39m.\u001b[39mIterable)\n\u001b[0;32m   3794\u001b[0m         \u001b[39mand\u001b[39;00m \u001b[39many\u001b[39m(\u001b[39misinstance\u001b[39m(x, \u001b[39mslice\u001b[39m) \u001b[39mfor\u001b[39;00m x \u001b[39min\u001b[39;00m casted_key)\n\u001b[0;32m   3795\u001b[0m     ):\n\u001b[0;32m   3796\u001b[0m         \u001b[39mraise\u001b[39;00m InvalidIndexError(key)\n\u001b[1;32m-> 3797\u001b[0m     \u001b[39mraise\u001b[39;00m \u001b[39mKeyError\u001b[39;00m(key) \u001b[39mfrom\u001b[39;00m \u001b[39merr\u001b[39;00m\n\u001b[0;32m   3798\u001b[0m \u001b[39mexcept\u001b[39;00m \u001b[39mTypeError\u001b[39;00m:\n\u001b[0;32m   3799\u001b[0m     \u001b[39m# If we have a listlike key, _check_indexing_error will raise\u001b[39;00m\n\u001b[0;32m   3800\u001b[0m     \u001b[39m#  InvalidIndexError. Otherwise we fall through and re-raise\u001b[39;00m\n\u001b[0;32m   3801\u001b[0m     \u001b[39m#  the TypeError.\u001b[39;00m\n\u001b[0;32m   3802\u001b[0m     \u001b[39mself\u001b[39m\u001b[39m.\u001b[39m_check_indexing_error(key)\n",
      "\u001b[1;31mKeyError\u001b[0m: 'raw'"
     ]
    }
   ],
   "source": [
    "import numpy as np\n",
    "import matplotlib.cm as cm\n",
    "import matplotlib.pyplot as plt\n",
    "\n",
    "rawlaos = data[data['raw'] & (data['step'] == 7)]\n",
    "synlaos = data[~data['raw'] & (data['step'] == 7)]\n",
    "\n",
    "cmap = cm.magma_r\n",
    "\n",
    "%matplotlib widget\n",
    "\n",
    "fig = plt.figure()\n",
    "ax0 = fig.add_axes([0.10,0.55,0.4,0.45])\n",
    "ax1 = fig.add_axes([0.10,0.10,0.4,0.45])\n",
    "ax2 = fig.add_axes([0.58,0.10,0.4,0.45])\n",
    "ax3 = fig.add_axes([0.58,0.55,0.4,0.45])\n",
    "\n",
    "for pt in np.unique(rawlaos['point'][:]):\n",
    "    color = 0.85*np.array(cmap(pt/8))\n",
    "    select = rawlaos[rawlaos['point'] == pt]\n",
    "    f = np.squeeze(np.unique(select['freq']))\n",
    "    t_rebuilt = np.linspace(0, 1, len(select)) # We don't get the \"raw\" time ; we assume the points correspond to one period\n",
    "\n",
    "    proj_gam = rh.proj_fourier(2*np.pi*t_rebuilt, select['raw_oscstrain'], nmodes=10)\n",
    "    proj_tau = rh.proj_fourier(2*np.pi*t_rebuilt, select['raw_oscstress'], nmodes=10)\n",
    "    fit_gam = rh.build_fourier(proj_gam, 2*np.pi*t_rebuilt, nmodes=10)\n",
    "    fit_tau = rh.build_fourier(proj_tau, 2*np.pi*t_rebuilt, nmodes=10)\n",
    "\n",
    "    # Plotting\n",
    "    ax0.plot(t_rebuilt, select['raw_oscstrain'], '-',  color=color)\n",
    "    ax0.plot(t_rebuilt, fit_gam, ':',  color=color)\n",
    "    ax1.plot(t_rebuilt, select['raw_oscstress'], '-', color=color)\n",
    "    ax1.plot(t_rebuilt, fit_tau, ':', color=color)\n",
    "    ax2.semilogy(proj_tau['mode'][1::2], proj_tau['amp'][1::2], ':o', color=color)\n",
    "    ax3.semilogy(proj_gam['mode'][1::2], proj_gam['amp'][1::2], ':o', color=color)\n",
    "    ax2.semilogy(proj_tau['mode'][::2], proj_tau['amp'][::2], 'o', markeredgecolor=color, markerfacecolor='None')\n",
    "    ax3.semilogy(proj_gam['mode'][::2], proj_gam['amp'][::2], 'o', markeredgecolor=color, markerfacecolor='None') \n",
    "\n",
    "# Format plot\n",
    "ax1.set_xlabel('$f t$')\n",
    "ax1.set_ylabel('$\\\\tau$ (Pa)')\n",
    "ax0.set_ylabel('$\\\\gamma$ (1)')\n",
    "ax2.set_xlabel('Mode')\n",
    "ax2.set_ylabel('Amp ($\\\\tau$)')\n",
    "ax3.set_ylabel('Amp ($\\\\gamma$)')\n",
    "ax2.set_ylim([1e-3*np.max(proj_tau['mode']), 5*np.max(proj_tau['mode'])])\n",
    "ax3.set_ylim([1e-3*np.max(proj_tau['mode']), 5*np.max(proj_tau['mode'])])\n",
    "fig.set_figwidth(12)"
   ]
  },
  {
   "cell_type": "markdown",
   "metadata": {},
   "source": [
    "### LAOS (Malvern)\n",
    "\n",
    "The code has to be slightly different between Anton Paar and Malvern due to technical choices \n",
    "from the two manufacturers. Anton Paar does not store the \"raw time\" for each point and Malvern does. But Malvern \"not raw\" points can be anytime, whereas Anton Paar \"not raw\" points correspond exactly to one period (smart !). Since the \"non-raw\" points of Malvern are sampled a bit whenever you specified them (it usually leads to stupid sampling times). I would then advise against doing Amplitude Sweeps and Frequency Sweeps in Malvern LAOS. I would rather do individual steps with constant parameters, and then in your Python code you can loop on the steps instead of the points (which was done above) to avoid really stupid surprises. \n",
    "\n",
    "Here, we will work with steps 11 to 15 ; except for the loop variable, the code is essentially the same :"
   ]
  },
  {
   "cell_type": "code",
   "execution_count": null,
   "metadata": {},
   "outputs": [],
   "source": [
    "import numpy as np\n",
    "import matplotlib.cm as cm\n",
    "import matplotlib.pyplot as plt\n",
    "\n",
    "steps = [11,12,13,14,15]\n",
    "laos = rh.slice(data, steps)\n",
    "rawlaos = laos[laos['raw']]\n",
    "synlaos = laos[~laos['raw']]\n",
    "\n",
    "cmap = cm.magma\n",
    "\n",
    "fig = plt.figure()\n",
    "ax0 = fig.add_axes([0.10,0.55,0.4,0.45])\n",
    "ax1 = fig.add_axes([0.10,0.10,0.4,0.45])\n",
    "ax2 = fig.add_axes([0.58,0.10,0.4,0.45])\n",
    "ax3 = fig.add_axes([0.58,0.55,0.4,0.45])\n",
    "\n",
    "for step in steps:\n",
    "    color = 0.85*np.array(cmap((step-steps[0])/4))\n",
    "    rawselect = rawlaos[rawlaos['step'] == step]\n",
    "    synselect = synlaos[synlaos['step'] == step]\n",
    "    f = np.squeeze(np.unique(rawselect['freq']))\n",
    "    t = np.array(rawselect['time']*f)\n",
    "    strs = np.array(rawselect['raw_oscstress'])\n",
    "    strn = np.array(rawselect['raw_oscstrain'])\n",
    "\n",
    "    trim_idx, = np.where(t - np.floor(np.max(t)) < 0)\n",
    "    trim_idx = trim_idx[-1] # Better to trim one too many than one too few here\n",
    "    t, strs, strn = t[:trim_idx], strs[:trim_idx], strn[:trim_idx]\n",
    "\n",
    "    proj_gam = rh.proj_fourier(2*np.pi*t, strn, nmodes=10)\n",
    "    proj_tau = rh.proj_fourier(2*np.pi*t, strs, nmodes=10)\n",
    "    fit_gam = rh.build_fourier(proj_gam, 2*np.pi*t, nmodes=10)\n",
    "    fit_tau = rh.build_fourier(proj_tau, 2*np.pi*t, nmodes=10)\n",
    "\n",
    "    # Plotting\n",
    "    ax0.plot(t, strn, '-',  color=color)\n",
    "    ax0.plot(t, fit_gam, ':',  color=color)\n",
    "    ax1.plot(t, strs, '-', color=color)\n",
    "    ax1.plot(t, fit_tau, ':', color=color)\n",
    "    ax2.semilogy(proj_tau['mode'][1::2], proj_tau['amp'][1::2], ':o', color=color)\n",
    "    ax3.semilogy(proj_gam['mode'][1::2], proj_gam['amp'][1::2], ':o', color=color)\n",
    "    ax2.semilogy(proj_tau['mode'][::2], proj_tau['amp'][::2], 'o', markeredgecolor=color, markerfacecolor='None')\n",
    "    ax3.semilogy(proj_gam['mode'][::2], proj_gam['amp'][::2], 'o', markeredgecolor=color, markerfacecolor='None') \n",
    "\n",
    "# Format plot\n",
    "ax1.set_xlabel('$\\\\omega t$')\n",
    "ax1.set_ylabel('$\\\\tau$ (Pa)')\n",
    "ax0.set_ylabel('$\\\\gamma$ (1)')\n",
    "ax2.set_xlabel('Mode')\n",
    "ax2.set_ylabel('Amp ($\\\\tau$)')\n",
    "ax3.set_ylabel('Amp ($\\\\gamma$)')\n",
    "ax2.set_ylim([1e-3*np.max(proj_tau['mode']), 5*np.max(proj_tau['mode'])])\n",
    "ax3.set_ylim([1e-3*np.max(proj_tau['mode']), 5*np.max(proj_tau['mode'])])\n",
    "fig.set_figwidth(12)"
   ]
  },
  {
   "cell_type": "markdown",
   "metadata": {},
   "source": [
    "------------------------------------------------\n",
    "\n",
    "### Debug\n",
    "\n",
    "Writes the processed data in a `.csv` file."
   ]
  },
  {
   "cell_type": "code",
   "execution_count": null,
   "metadata": {},
   "outputs": [],
   "source": [
    "data.to_csv('./debug.csv')"
   ]
  }
 ],
 "metadata": {
  "interpreter": {
   "hash": "cb9c252e610b593a3421828f92740a33c32c552b9658c846af1824aa6c7c0cc9"
  },
  "kernelspec": {
   "display_name": "Python 3.9.7 64-bit",
   "language": "python",
   "name": "python3"
  },
  "language_info": {
   "codemirror_mode": {
    "name": "ipython",
    "version": 3
   },
   "file_extension": ".py",
   "mimetype": "text/x-python",
   "name": "python",
   "nbconvert_exporter": "python",
   "pygments_lexer": "ipython3",
   "version": "3.11.6"
  },
  "orig_nbformat": 4
 },
 "nbformat": 4,
 "nbformat_minor": 2
}
