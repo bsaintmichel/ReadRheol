{
 "cells": [
  {
   "cell_type": "markdown",
   "metadata": {},
   "source": [
    "#### Fonctions de base"
   ]
  },
  {
   "cell_type": "code",
   "execution_count": null,
   "metadata": {},
   "outputs": [],
   "source": [
    "import rheol_functions as rh\n",
    "\n",
    "# Load either file\n",
    "# file = './Carbopol_AntonPaar.csv'\n",
    "file = './Carbopol_Malvern.csv'\n",
    "\n",
    "data = rh.read_rheology(file)                       # Read the file\n",
    "rh.list_steps(data)                                 # List all the steps\n",
    "data = rh.assign_steps(data, [3,4], 'flowcurve')    # Say that steps 3 and 4 are `flowcurve`s\n",
    "flowcurves = rh.slice(data,'flowcurve')             # Select step 3 and 4 that have previously been assigned as `flowcurve`\n",
    "fig, fit = rh.plot_flowcurve(flowcurves)            # Plot the flow curves of steps 3 and 4"
   ]
  },
  {
   "cell_type": "markdown",
   "metadata": {},
   "source": [
    "-------------------------------------------------\n",
    "\n",
    "### Your workspace !"
   ]
  },
  {
   "cell_type": "markdown",
   "metadata": {},
   "source": [
    "Your text here, comments and code below in the Python cell."
   ]
  },
  {
   "cell_type": "code",
   "execution_count": null,
   "metadata": {},
   "outputs": [],
   "source": [
    "rh.plot_fsweep(rh.slice(data, 5)) # :-)"
   ]
  },
  {
   "cell_type": "markdown",
   "metadata": {},
   "source": [
    "-------------------------------------------------\n",
    "\n",
    "#### LAOS (Anton Paar)\n",
    "\n",
    "The Anton Paar LAOS Step n°7 has multiple oscillation amplitudes, from low to high values. Let's plot them altogether with a different color for each plot, and without additional normalisation. The script here takes advantage of the `proj_fourier()` and `build_fourier()` functions allowing easy projection on Fourier __series__ (no Fourier transform here)."
   ]
  },
  {
   "cell_type": "code",
   "execution_count": null,
   "metadata": {},
   "outputs": [],
   "source": [
    "import numpy as np\n",
    "import matplotlib.cm as cm\n",
    "import matplotlib.pyplot as plt\n",
    "\n",
    "rawlaos = data[data['raw'] & (data['step'] == 7)]\n",
    "synlaos = data[~data['raw'] & (data['step'] == 7)]\n",
    "\n",
    "cmap = cm.magma_r\n",
    "\n",
    "%matplotlib widget\n",
    "\n",
    "fig = plt.figure()\n",
    "ax0 = fig.add_axes([0.10,0.55,0.4,0.45])\n",
    "ax1 = fig.add_axes([0.10,0.10,0.4,0.45])\n",
    "ax2 = fig.add_axes([0.58,0.10,0.4,0.45])\n",
    "ax3 = fig.add_axes([0.58,0.55,0.4,0.45])\n",
    "\n",
    "for pt in np.unique(rawlaos['point'][:]):\n",
    "    color = 0.85*np.array(cmap(pt/8))\n",
    "    select = rawlaos[rawlaos['point'] == pt]\n",
    "    f = np.squeeze(np.unique(select['freq']))\n",
    "    t_rebuilt = np.linspace(0, 1, len(select)) # We don't get the \"raw\" time ; we assume the points correspond to one period\n",
    "\n",
    "    proj_gam = rh.proj_fourier(2*np.pi*t_rebuilt, select['raw_oscstrain'], nmodes=10)\n",
    "    proj_tau = rh.proj_fourier(2*np.pi*t_rebuilt, select['raw_oscstress'], nmodes=10)\n",
    "    fit_gam = rh.build_fourier(proj_gam, 2*np.pi*t_rebuilt, nmodes=10)\n",
    "    fit_tau = rh.build_fourier(proj_tau, 2*np.pi*t_rebuilt, nmodes=10)\n",
    "\n",
    "    # Plotting\n",
    "    ax0.plot(t_rebuilt, select['raw_oscstrain'], '-',  color=color)\n",
    "    ax0.plot(t_rebuilt, fit_gam, ':',  color=color)\n",
    "    ax1.plot(t_rebuilt, select['raw_oscstress'], '-', color=color)\n",
    "    ax1.plot(t_rebuilt, fit_tau, ':', color=color)\n",
    "    ax2.semilogy(proj_tau['mode'][1::2], proj_tau['amp'][1::2], ':o', color=color)\n",
    "    ax3.semilogy(proj_gam['mode'][1::2], proj_gam['amp'][1::2], ':o', color=color)\n",
    "    ax2.semilogy(proj_tau['mode'][::2], proj_tau['amp'][::2], 'o', markeredgecolor=color, markerfacecolor='None')\n",
    "    ax3.semilogy(proj_gam['mode'][::2], proj_gam['amp'][::2], 'o', markeredgecolor=color, markerfacecolor='None') \n",
    "\n",
    "# Format plot\n",
    "ax1.set_xlabel('$f t$')\n",
    "ax1.set_ylabel('$\\\\tau$ (Pa)')\n",
    "ax0.set_ylabel('$\\\\gamma$ (1)')\n",
    "ax2.set_xlabel('Mode')\n",
    "ax2.set_ylabel('Amp ($\\\\tau$)')\n",
    "ax3.set_ylabel('Amp ($\\\\gamma$)')\n",
    "ax2.set_ylim([1e-3*np.max(proj_tau['mode']), 5*np.max(proj_tau['mode'])])\n",
    "ax3.set_ylim([1e-3*np.max(proj_tau['mode']), 5*np.max(proj_tau['mode'])])\n",
    "fig.set_figwidth(12)"
   ]
  },
  {
   "cell_type": "markdown",
   "metadata": {},
   "source": [
    "### LAOS (Malvern)\n",
    "\n",
    "The code has to be slightly different between Anton Paar and Malvern due to technical choices \n",
    "from the two manufacturers. Anton Paar does not store the \"raw time\" for each point and Malvern does. But Malvern \"not raw\" points can be anytime, whereas Anton Paar \"not raw\" points correspond exactly to one period (smart !). Since the \"non-raw\" points of Malvern are sampled a bit whenever you specified them (it usually leads to stupid sampling times). I would then advise against doing Amplitude Sweeps and Frequency Sweeps in Malvern LAOS. I would rather do individual steps with constant parameters, and then in your Python code you can loop on the steps instead of the points (which was done above) to avoid really stupid surprises. \n",
    "\n",
    "Here, we will work with steps 11 to 15 ; except for the loop variable, the code is essentially the same :"
   ]
  },
  {
   "cell_type": "code",
   "execution_count": null,
   "metadata": {},
   "outputs": [],
   "source": [
    "import numpy as np\n",
    "import matplotlib.cm as cm\n",
    "import matplotlib.pyplot as plt\n",
    "\n",
    "steps = [11,12,13,14,15]\n",
    "laos = rh.slice(data, steps)\n",
    "rawlaos = laos[laos['raw']]\n",
    "synlaos = laos[~laos['raw']]\n",
    "\n",
    "cmap = cm.magma\n",
    "\n",
    "fig = plt.figure()\n",
    "ax0 = fig.add_axes([0.10,0.55,0.4,0.45])\n",
    "ax1 = fig.add_axes([0.10,0.10,0.4,0.45])\n",
    "ax2 = fig.add_axes([0.58,0.10,0.4,0.45])\n",
    "ax3 = fig.add_axes([0.58,0.55,0.4,0.45])\n",
    "\n",
    "for step in steps:\n",
    "    color = 0.85*np.array(cmap((step-steps[0])/4))\n",
    "    rawselect = rawlaos[rawlaos['step'] == step]\n",
    "    synselect = synlaos[synlaos['step'] == step]\n",
    "    f = np.squeeze(np.unique(rawselect['freq']))\n",
    "    t = np.array(rawselect['time']*f)\n",
    "    strs = np.array(rawselect['raw_oscstress'])\n",
    "    strn = np.array(rawselect['raw_oscstrain'])\n",
    "\n",
    "    trim_idx, = np.where(t - np.floor(np.max(t)) < 0)\n",
    "    trim_idx = trim_idx[-1] # Better to trim one too many than one too few here\n",
    "    t, strs, strn = t[:trim_idx], strs[:trim_idx], strn[:trim_idx]\n",
    "\n",
    "    proj_gam = rh.proj_fourier(2*np.pi*t, strn, nmodes=10)\n",
    "    proj_tau = rh.proj_fourier(2*np.pi*t, strs, nmodes=10)\n",
    "    fit_gam = rh.build_fourier(proj_gam, 2*np.pi*t, nmodes=10)\n",
    "    fit_tau = rh.build_fourier(proj_tau, 2*np.pi*t, nmodes=10)\n",
    "\n",
    "    # Plotting\n",
    "    ax0.plot(t, strn, '-',  color=color)\n",
    "    ax0.plot(t, fit_gam, ':',  color=color)\n",
    "    ax1.plot(t, strs, '-', color=color)\n",
    "    ax1.plot(t, fit_tau, ':', color=color)\n",
    "    ax2.semilogy(proj_tau['mode'][1::2], proj_tau['amp'][1::2], ':o', color=color)\n",
    "    ax3.semilogy(proj_gam['mode'][1::2], proj_gam['amp'][1::2], ':o', color=color)\n",
    "    ax2.semilogy(proj_tau['mode'][::2], proj_tau['amp'][::2], 'o', markeredgecolor=color, markerfacecolor='None')\n",
    "    ax3.semilogy(proj_gam['mode'][::2], proj_gam['amp'][::2], 'o', markeredgecolor=color, markerfacecolor='None') \n",
    "\n",
    "# Format plot\n",
    "ax1.set_xlabel('$\\\\omega t$')\n",
    "ax1.set_ylabel('$\\\\tau$ (Pa)')\n",
    "ax0.set_ylabel('$\\\\gamma$ (1)')\n",
    "ax2.set_xlabel('Mode')\n",
    "ax2.set_ylabel('Amp ($\\\\tau$)')\n",
    "ax3.set_ylabel('Amp ($\\\\gamma$)')\n",
    "ax2.set_ylim([1e-3*np.max(proj_tau['mode']), 5*np.max(proj_tau['mode'])])\n",
    "ax3.set_ylim([1e-3*np.max(proj_tau['mode']), 5*np.max(proj_tau['mode'])])\n",
    "fig.set_figwidth(12)"
   ]
  },
  {
   "cell_type": "markdown",
   "metadata": {},
   "source": [
    "------------------------------------------------\n",
    "\n",
    "### Debug\n",
    "\n",
    "Writes the processed data in a `.csv` file."
   ]
  },
  {
   "cell_type": "code",
   "execution_count": null,
   "metadata": {},
   "outputs": [],
   "source": [
    "data.to_csv('./debug.csv')"
   ]
  }
 ],
 "metadata": {
  "interpreter": {
   "hash": "cb9c252e610b593a3421828f92740a33c32c552b9658c846af1824aa6c7c0cc9"
  },
  "kernelspec": {
   "display_name": "Python 3.9.7 64-bit",
   "language": "python",
   "name": "python3"
  },
  "language_info": {
   "codemirror_mode": {
    "name": "ipython",
    "version": 3
   },
   "file_extension": ".py",
   "mimetype": "text/x-python",
   "name": "python",
   "nbconvert_exporter": "python",
   "pygments_lexer": "ipython3",
   "version": "3.9.7"
  },
  "orig_nbformat": 4
 },
 "nbformat": 4,
 "nbformat_minor": 2
}
