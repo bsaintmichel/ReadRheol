{
 "cells": [
  {
   "cell_type": "markdown",
   "metadata": {},
   "source": [
    "#### Utilisation de base :"
   ]
  },
  {
   "cell_type": "code",
   "execution_count": null,
   "metadata": {},
   "outputs": [],
   "source": [
    "# READRHEOLOGY : reads\n",
    "\n",
    "import rheol_functions as rh\n",
    "\n",
    "# Load file\n",
    "file = 'Z:/AntonPaar/Carbopol 20230906_full.csv'\n",
    "\n",
    "data = rh.read_rheology(file)                       # Read the file\n",
    "data = rh.assign_steps(data, [3,4], 'flowcurve')    # Say that steps 3 and 4 are `flow curves`\n",
    "rh.list_steps(data)                                 # List all the steps\n",
    "flowcurves = rh.slice(data,[3])                     # Select step 3\n",
    "fig, fit = rh.plot_flowcurve(flowcurves)                       # Plot the flow curves of step 3"
   ]
  },
  {
   "cell_type": "code",
   "execution_count": null,
   "metadata": {},
   "outputs": [],
   "source": [
    "# Your plots here !"
   ]
  },
  {
   "cell_type": "markdown",
   "metadata": {},
   "source": [
    "#### Utilisation pour LAOS"
   ]
  },
  {
   "cell_type": "code",
   "execution_count": null,
   "metadata": {},
   "outputs": [],
   "source": [
    "# Example of a LAOS raw data plot for Anton Paar\n",
    "# The Anton Paar LAOS Step (n°7 here) has multiple oscillation\n",
    "# amplitudes. \n",
    "\n",
    "import numpy as np\n",
    "import matplotlib.cm as cm\n",
    "import matplotlib.pyplot as plt\n",
    "\n",
    "\n",
    "rawlaos = data[data['raw'] & (data['step'] == 7)]\n",
    "synlaos = data[~data['raw'] & (data['step'] == 7)]\n",
    "\n",
    "cmap = cm.magma_r\n",
    "\n",
    "%matplotlib widget\n",
    "\n",
    "fig = plt.figure()\n",
    "ax0 = fig.add_axes([0.10,0.55,0.4,0.45])\n",
    "ax1 = fig.add_axes([0.10,0.10,0.4,0.45])\n",
    "ax2 = fig.add_axes([0.58,0.10,0.4,0.45])\n",
    "ax3 = fig.add_axes([0.58,0.55,0.4,0.45])\n",
    "\n",
    "for pt in np.unique(rawlaos['point'][:]):\n",
    "    color = 0.85*np.array(cmap(pt/8))\n",
    "    select = rawlaos[rawlaos['point'] == pt]\n",
    "    f = np.squeeze(np.unique(select['freq']))\n",
    "    t_rebuilt = np.linspace(0, 1/f, len(select))*2*np.pi*f\n",
    "\n",
    "    proj_gam = rh.proj_fourier(t_rebuilt, select['raw_oscstrain'], nmodes=10)\n",
    "    proj_tau = rh.proj_fourier(t_rebuilt, select['raw_oscstress'], nmodes=10)\n",
    "    fit_gam = rh.build_fourier(proj_gam, t_rebuilt, nmodes=10)\n",
    "    fit_tau = rh.build_fourier(proj_tau, t_rebuilt, nmodes=10)\n",
    "\n",
    "    # Plotting\n",
    "    ax0.plot(t_rebuilt, select['raw_oscstrain'], '-',  color=color)\n",
    "    ax0.plot(t_rebuilt, fit_gam, ':',  color=color)\n",
    "    ax1.plot(t_rebuilt, select['raw_oscstress'], '-', color=color)\n",
    "    ax1.plot(t_rebuilt, fit_tau, ':', color=color)\n",
    "    ax2.semilogy(proj_tau['mode'][1::2], proj_tau['amp'][1::2], ':o', color=color)\n",
    "    ax3.semilogy(proj_gam['mode'][1::2], proj_gam['amp'][1::2], ':o', color=color)\n",
    "    ax2.semilogy(proj_tau['mode'][::2], proj_tau['amp'][::2], 'o', markeredgecolor=color, markerfacecolor='None')\n",
    "    ax3.semilogy(proj_gam['mode'][::2], proj_gam['amp'][::2], 'o', markeredgecolor=color, markerfacecolor='None') \n",
    "\n",
    "# Format plot\n",
    "ax1.set_xlabel('$\\\\omega t$')\n",
    "ax1.set_ylabel('$\\\\tau$ (Pa)')\n",
    "ax0.set_ylabel('$\\\\gamma$ (1)')\n",
    "ax2.set_xlabel('Mode')\n",
    "ax2.set_ylabel('Amp ($\\\\tau$)')\n",
    "ax3.set_ylabel('Amp ($\\\\gamma$)')\n",
    "ax2.set_ylim([1e-3*np.max(proj_tau['mode']), 5*np.max(proj_tau['mode'])])\n",
    "ax3.set_ylim([1e-3*np.max(proj_tau['mode']), 5*np.max(proj_tau['mode'])])\n",
    "fig.set_figwidth(12)"
   ]
  }
 ],
 "metadata": {
  "interpreter": {
   "hash": "cb9c252e610b593a3421828f92740a33c32c552b9658c846af1824aa6c7c0cc9"
  },
  "kernelspec": {
   "display_name": "Python 3.9.7 64-bit",
   "language": "python",
   "name": "python3"
  },
  "language_info": {
   "codemirror_mode": {
    "name": "ipython",
    "version": 3
   },
   "file_extension": ".py",
   "mimetype": "text/x-python",
   "name": "python",
   "nbconvert_exporter": "python",
   "pygments_lexer": "ipython3",
   "version": "3.9.7"
  },
  "orig_nbformat": 4
 },
 "nbformat": 4,
 "nbformat_minor": 2
}
