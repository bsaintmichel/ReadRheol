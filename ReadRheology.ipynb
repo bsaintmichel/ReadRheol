{
 "cells": [
  {
   "cell_type": "code",
   "execution_count": 34,
   "metadata": {},
   "outputs": [
    {
     "name": "stdout",
     "output_type": "stream",
     "text": [
      "read_rheology > D:\\Data\\Rheol\\AntonPaar\\Carbopol ETD 2050 0p6pc - MCR502 - 20220920 - Rheol - SandpaperCP.csv is an Anton Paar file\n",
      "------------- Step list in DataFrame --------------------\n",
      "  * Step n°0 \t :                                         \t is a        Preshear | Duration :    1800.00 s | Total time is :    1800.00 s\n",
      "  * Step n°1 \t :                                         \t is a       Timesweep | Duration :     180.00 s | Total time is :    1980.00 s\n",
      "  * Step n°2 \t :                                         \t is a       Flowcurve | Duration :     408.00 s | Total time is :    2388.00 s\n",
      "  * Step n°3 \t :                                         \t is a       Flowcurve | Duration :     408.00 s | Total time is :    2796.00 s\n",
      "  * Step n°4 \t :                                         \t is a        Preshear | Duration :     180.00 s | Total time is :    2976.00 s\n",
      "  * Step n°5 \t :                                         \t is a            Rest | Duration :       5.00 s | Total time is :    2981.00 s\n",
      "  * Step n°6 \t :                                         \t is a       Timesweep | Duration :     180.00 s | Total time is :    3161.00 s\n",
      "  * Step n°7 \t :                                         \t is a         Unknown | Duration :    2858.00 s | Total time is :    6019.00 s\n",
      "  * Step n°8 \t :                                         \t is a        Preshear | Duration :     180.00 s | Total time is :    6200.00 s\n",
      "  * Step n°9 \t :                                         \t is a            Rest | Duration :       5.00 s | Total time is :    6205.00 s\n",
      "  * Step n°10 \t :                                         \t is a       Timesweep | Duration :     180.00 s | Total time is :    6385.00 s\n",
      "  * Step n°11 \t :                                         \t is a  Amplitudesweep | Duration :     510.00 s | Total time is :    6895.00 s\n",
      "---------------------------------------------------------\n",
      "plot_flowcurve > fit for step 2 : τ = 11.62 + 6.15 γ^(0.56)\n",
      "plot_flowcurve > fit for step 3 : τ = 11.96 + 6.91 γ^(0.53)\n",
      "plot_fsweep > Cannot confirm that step 7 is a frequency sweep\n",
      "slice > Warning : empty dataframe with slicing key shearstartup\n",
      "plot_startup > No startup step in the sliced dataset\n"
     ]
    }
   ],
   "source": [
    "## Imports\n",
    "import rheol_functions as rh\n",
    "import numpy as np\n",
    "\n",
    "## Parameters : \n",
    "\n",
    "file_url = \"D:\\\\Data\\\\Rheol\\\\AntonPaar\\\\\" + \"Carbopol ETD 2050 0p6pc - MCR502 - 20220920 - Rheol - SandpaperCP.csv\"\n",
    "data = rh.read_rheology(file_url)\n",
    "\n",
    "# # ## List steps, reassign steps 10 and 11 if they are ugly\n",
    "list_of_steps = rh.list_steps(data)\n",
    "\n",
    "# # # # ## Plot a flow curve, get the Herschel-Bulkley fits back\n",
    "flow_curves = rh.slice(data, 'flowcurve')\n",
    "HB_fits, fig_flowcurves = rh.plot_flowcurve(flow_curves, fit_from=1e-2, fit_up_to=1e3)\n",
    "\n",
    "# # # ## Plot one or many amplitude sweeps\n",
    "a_sweeps = rh.slice(data, 'asweep')\n",
    "fig_asweep = rh.plot_asweep(a_sweeps)\n",
    "\n",
    "# # # ## Plot a frequency sweep, selecting it from its step n°\n",
    "f_sweeps = rh.slice(data, 7)    # should return 14\n",
    "fig_fsweep = rh.plot_fsweep(f_sweeps)\n",
    "\n",
    "# # # # ## Plot a time sweep \n",
    "# t_sweep = rh.slice(data, 'timesweep') # You can do it with step numbers even if it is wrong\n",
    "# fig_tsweep = rh.plot_tsweep(t_sweep, x_axis_type='log', y_axis_type='log')\n",
    "\n",
    "# # # ## Plot Normal forces for the flow curves\n",
    "# # # fig_nforce = rh.plot_normalforce(flow_curves)\n",
    "\n",
    "# ## Shear startup (preshears)\n",
    "preshear = rh.slice(data, 'shearstartup')\n",
    "fig_rev = rh.plot_startup(preshear, malvern=False, plot_vs_strain=True)\n",
    "# # # fig_control = rh.plot_control_startup(tests, malvern=True)\n",
    "\n",
    "## Creep plots\n",
    "# creep = rh.slice(data, [20,24,28])\n",
    "# fig_cr = rh.plot_creep(creep)\n",
    "\n",
    "# # # Stress Relaxation plots after a step strain\n",
    "# relax = rh.slice(data, 'stepstrain')\n",
    "# fig_relax = rh.plot_stepstrain(relax, y_axis_type='linear')\n",
    "# # fig_relax_2 = rh.plot_stepstrain_normalised(relax)"
   ]
  },
  {
   "cell_type": "markdown",
   "metadata": {},
   "source": [
    "### Preshears "
   ]
  },
  {
   "cell_type": "code",
   "execution_count": 5,
   "metadata": {},
   "outputs": [
    {
     "name": "stderr",
     "output_type": "stream",
     "text": [
      "WARNING:bokeh.core.validation.check:W-1000 (MISSING_RENDERERS): Plot has no renderers: Figure(id='2143', ...)\n",
      "WARNING:bokeh.core.validation.check:W-1000 (MISSING_RENDERERS): Plot has no renderers: Figure(id='2176', ...)\n"
     ]
    }
   ],
   "source": [
    "# Preshears\n",
    "from bokeh.plotting import figure, show, row \n",
    "from bokeh.models import Legend\n",
    "from bokeh.palettes import Spectral4\n",
    "from itertools import cycle\n",
    "\n",
    "steps =  [10,11,14,17,20]\n",
    "col = cycle(Spectral4)\n",
    "fps_1 = figure(width=500, height=400, title='Preshear : ', y_range=(10,1001), y_axis_type='log')\n",
    "fps_2 = figure(width=500, height=400, y_range=(1,1000), y_axis_type='log')\n",
    "fevol = figure(width=500, height=400, title='Preshear : ', x_axis_type='log', y_range=(0,70), x_range=(3,3e5))\n",
    "\n",
    "t0s, tends = np.zeros(np.size(steps)), np.zeros(np.size(steps))\n",
    "s0s, sends = np.zeros(np.size(steps)), np.zeros(np.size(steps))\n",
    "\n",
    "for no, step in enumerate(steps):\n",
    "    dat_now = data[data['step'] == step]\n",
    "    c = next(col)\n",
    "    iend = dat_now['stress'].last_valid_index()\n",
    "\n",
    "    if iend is not None:\n",
    "        t0, tend = dat_now['time_global'].iloc[0], dat_now.loc[iend, 'time_global']\n",
    "        s0, send = dat_now[dat_now['time'] > 1].iloc[0]['stress'], dat_now.loc[iend, 'stress']\n",
    "\n",
    "        p1 = fps_1.scatter(dat_now['time'], dat_now['stress'], fill_color=c, line_color='black')\n",
    "        p2 = fps_2.scatter(dat_now['time'], dat_now['shearrate'], fill_color=c, line_color='black', legend_label= 't = {:3.2f}'.format(t0) + ' s')\n",
    "\n",
    "        s0s[no], sends[no] = s0, send\n",
    "        t0s[no], tends[no] = t0, tend\n",
    "\n",
    "fps_1.xaxis.axis_label, fps_2.xaxis.axis_label = 'time (s)', 'time (s)'\n",
    "fps_1.yaxis.axis_label, fps_2.yaxis.axis_label = 'σ (Pa)', 'γ (1/s)'\n",
    "fps_2.legend.location= 'top_right'\n",
    "\n",
    "show(row(fps_1, fps_2))\n",
    "\n",
    "fevol.scatter(t0s, s0s, marker='square', legend_label='Preshear : Start')\n",
    "fevol.scatter(tends, sends, marker='circle', fill_color='white', legend_label='Preshear  : End')\n",
    "fevol.xaxis.axis_label = 't (s)'\n",
    "fevol.yaxis.axis_label = 'sigma (Pa)'\n",
    "fevol.legend.location = 'bottom_left'\n",
    "show(fevol)"
   ]
  },
  {
   "cell_type": "markdown",
   "metadata": {},
   "source": [
    "### Time Sweeps "
   ]
  },
  {
   "cell_type": "code",
   "execution_count": 3,
   "metadata": {},
   "outputs": [
    {
     "name": "stderr",
     "output_type": "stream",
     "text": [
      "WARNING:bokeh.core.validation.check:W-1000 (MISSING_RENDERERS): Plot has no renderers: Figure(id='1747', ...)\n"
     ]
    }
   ],
   "source": [
    "# Time Sweeps\n",
    "\n",
    "from bokeh.plotting import figure, show, row \n",
    "from bokeh.palettes import Spectral4\n",
    "from itertools import cycle\n",
    "\n",
    "steps = [12,15,18,21]\n",
    "\n",
    "col = cycle(Spectral4)\n",
    "fwt = figure(width=500, height=400, title='Time Sweep (SAOS) : ', x_axis_type='log', y_range=(0,30), x_range=(10,1e4))\n",
    "fevol = figure(width=500, height=400, title='Time Sweep (SAOS) : ', x_axis_type='log', y_range=(0,30), x_range=(10,3e5))\n",
    "t0s, tends = np.zeros(np.size(steps)), np.zeros(np.size(steps))\n",
    "s0s, sends = np.zeros(np.size(steps)), np.zeros(np.size(steps))\n",
    "\n",
    "for no, step in enumerate(steps):\n",
    "    dat_now = data[data['step'] == step]\n",
    "    c = next(col)\n",
    "\n",
    "    i0, iend = dat_now[dat_now['time'] > 10].first_valid_index(),  dat_now['stress'].last_valid_index()   \n",
    "    if i0 is not None and iend is not None:\n",
    "        t0, tend = dat_now.loc[i0, 'time_global'], dat_now.loc[iend, 'time_global']\n",
    "        s0, send = dat_now.loc[i0, 'gprime'], dat_now.loc[iend, 'gprime']\n",
    "        fwt.scatter(dat_now['time'], dat_now['gprime'], fill_color=c, line_color=rh.darken(c), legend_label = 't = {:3.2f}'.format(t0) + ' s')\n",
    "        # fwt.scatter(dat_now['time'], dat_now['gsecond'], fill_color='white', line_color=rh.darken(c), marker='square')\n",
    "\n",
    "        s0s[no], sends[no] = s0, send\n",
    "        t0s[no], tends[no] = t0, tend\n",
    "\n",
    "fwt.xaxis.axis_label = 'time (s)'\n",
    "fwt.yaxis.axis_label = 'G'', G\" (Pa)'\n",
    "fwt.legend.location = 'bottom_right'\n",
    "show(fwt)\n",
    "\n",
    "fevol.scatter(t0s, s0s, marker='square', legend_label='Wait LO : Start')\n",
    "fevol.scatter(tends, sends, marker='circle', legend_label='Wait LO : End', fill_color='white')\n",
    "fevol.xaxis.axis_label = 't (s)'\n",
    "fevol.yaxis.axis_label = 'G'' (Pa)'\n",
    "fevol.legend.location = 'bottom_left'\n",
    "show(fevol)"
   ]
  },
  {
   "cell_type": "markdown",
   "metadata": {},
   "source": [
    "## Strain Steps _à la Malvern_ \n",
    "\n",
    "With one short shear startup then one 'step strain' step with 0% strain"
   ]
  },
  {
   "cell_type": "code",
   "execution_count": null,
   "metadata": {},
   "outputs": [],
   "source": [
    "# Strain steps \n",
    "\n",
    "from bokeh.plotting import figure, show, row, column\n",
    "from bokeh.palettes import Magma3\n",
    "from itertools import cycle\n",
    "\n",
    "\n",
    "# Squeeze flow ?\n",
    "# steps_relax = [17,21,25,29]\n",
    "# steps_relax = [33,37,41]\n",
    "steps_relax = [4,8,12]\n",
    "\n",
    "col = cycle(Magma3)\n",
    "fstrn_left = figure(width=250, height=400, title='Ramp', y_range=(0,350), x_range=(-10,0), toolbar_location=None)\n",
    "fstrn_right = figure(width=800, height=400, title='Relax', y_range=(0,350), x_axis_type='log', x_range=(0.01,2e4), toolbar_location='above', y_axis_location=None)\n",
    "fstrs_left = figure(width=250, height=400, title='', y_range=(0.1,100.01), x_range=(-10,0), toolbar_location=None, y_axis_type='log')\n",
    "fstrs_right = figure(width=800, height=400, title='', y_range=(0.1,100.01), x_axis_type='log', x_range=(0.01,2e4), toolbar_location='below', y_axis_location=None, y_axis_type='log')\n",
    "\n",
    "for srel in steps_relax:\n",
    "    \n",
    "    rel_now = data[data['step'] == srel]\n",
    "    ps_now = data[data['step'] == srel-3]\n",
    "    wait_now = data[data['step'] == srel-2]\n",
    "    ramp_now = data[data['step'] == srel-1]\n",
    "\n",
    "    wait = wait_now['time'].iloc[-1]\n",
    "    c, t_ramp, stn_ramp = next(col), ramp_now['time'].iloc[-1], ramp_now['strain'].iloc[-1]\n",
    "    strs0 = rel_now['stress'].iloc[0]\n",
    "    ps_sr = np.mean(ps_now['shearrate'])\n",
    "    gammadot = 0.01*stn_ramp/t_ramp\n",
    "    t_tot = 73750 + rel_now['time_global'][rel_now['time_global'].last_valid_index()]\n",
    "\n",
    "    fstrn_left.scatter(ramp_now['time'] - t_ramp, ramp_now['strain'], fill_color=c, line_color=rh.darken(c))\n",
    "    fstrn_right.scatter(rel_now['time'], rel_now['strain'] + stn_ramp, fill_color=c, line_color=rh.darken(c))\n",
    "    fstrs_left.scatter(ramp_now['time'] - t_ramp, ramp_now['stress'], fill_color=c, line_color=rh.darken(c))\n",
    "    fstrs_right.scatter(rel_now['time'], rel_now['stress'], fill_color=c, line_color=rh.darken(c), legend_label = 't_w = {:3.2f} s, t_tot = {:3.0f}'.format(wait, t_tot) + ' s')\n",
    "\n",
    "fstrn_left.xaxis.axis_label, fstrn_left.yaxis.axis_label = '', 'γ (%)'\n",
    "fstrs_left.xaxis.axis_label, fstrs_left.yaxis.axis_label = 't (s)', 'σ (Pa)'\n",
    "fstrs_right.xaxis.axis_label = 't (s)'\n",
    "fstrs_right.legend.location = 'bottom_left'\n",
    "\n",
    "# frel.xaxis.axis_label, frel.yaxis.axis_label = 'time (s)', ''\n",
    "# fstrn.legend.location = 'right'\n",
    "\n",
    "show(column(row(fstrn_left, fstrn_right),row(fstrs_left, fstrs_right)))"
   ]
  },
  {
   "cell_type": "markdown",
   "metadata": {},
   "source": [
    "## Regular Step strains for TA and Anton Paar\n",
    "\n",
    "With only one step strain"
   ]
  },
  {
   "cell_type": "code",
   "execution_count": 35,
   "metadata": {},
   "outputs": [
    {
     "ename": "IndexError",
     "evalue": "tuple index out of range",
     "output_type": "error",
     "traceback": [
      "\u001b[1;31m---------------------------------------------------------------------------\u001b[0m",
      "\u001b[1;31mIndexError\u001b[0m                                Traceback (most recent call last)",
      "\u001b[1;32mC:\\Users\\SAINT-~1\\AppData\\Local\\Temp/ipykernel_6500/249978291.py\u001b[0m in \u001b[0;36m<module>\u001b[1;34m\u001b[0m\n\u001b[0;32m     25\u001b[0m \u001b[1;33m\u001b[0m\u001b[0m\n\u001b[0;32m     26\u001b[0m     \u001b[0mc\u001b[0m \u001b[1;33m=\u001b[0m \u001b[0mnext\u001b[0m\u001b[1;33m(\u001b[0m\u001b[0midx_col\u001b[0m\u001b[1;33m)\u001b[0m\u001b[1;33m\u001b[0m\u001b[1;33m\u001b[0m\u001b[0m\n\u001b[1;32m---> 27\u001b[1;33m     \u001b[0mc\u001b[0m \u001b[1;33m=\u001b[0m \u001b[0mMagma256\u001b[0m\u001b[1;33m[\u001b[0m\u001b[0mnp\u001b[0m\u001b[1;33m.\u001b[0m\u001b[0mmin\u001b[0m\u001b[1;33m(\u001b[0m\u001b[1;33m[\u001b[0m\u001b[0mnp\u001b[0m\u001b[1;33m.\u001b[0m\u001b[0mint16\u001b[0m\u001b[1;33m(\u001b[0m\u001b[0mgamma\u001b[0m\u001b[1;33m*\u001b[0m\u001b[1;36m256\u001b[0m\u001b[1;33m/\u001b[0m\u001b[1;36m200\u001b[0m\u001b[1;33m)\u001b[0m\u001b[1;33m,\u001b[0m\u001b[1;36m255\u001b[0m\u001b[1;33m]\u001b[0m\u001b[1;33m)\u001b[0m\u001b[1;33m]\u001b[0m\u001b[1;33m\u001b[0m\u001b[1;33m\u001b[0m\u001b[0m\n\u001b[0m\u001b[0;32m     28\u001b[0m     \u001b[0mdc\u001b[0m \u001b[1;33m=\u001b[0m \u001b[0mrh\u001b[0m\u001b[1;33m.\u001b[0m\u001b[0mdarken\u001b[0m\u001b[1;33m(\u001b[0m\u001b[0mc\u001b[0m\u001b[1;33m,\u001b[0m \u001b[1;36m0.85\u001b[0m\u001b[1;33m)\u001b[0m\u001b[1;33m\u001b[0m\u001b[1;33m\u001b[0m\u001b[0m\n\u001b[0;32m     29\u001b[0m \u001b[1;33m\u001b[0m\u001b[0m\n",
      "\u001b[1;31mIndexError\u001b[0m: tuple index out of range"
     ]
    }
   ],
   "source": [
    "# CHECK\n",
    "\n",
    "from bokeh.plotting import figure, show, row, column\n",
    "from bokeh.palettes import Magma256\n",
    "from itertools import cycle\n",
    "\n",
    "steps_strain = [3,7,11,15,19,23,27]\n",
    "steps_wait = [n-1 for n in steps_strain]\n",
    "steps_ps = [n-2 for n in steps_strain]\n",
    "\n",
    "idx = np.int16(np.linspace(0,255,len(steps_strain)))\n",
    "idx_col = iter([Magma256[i] for i in idx])\n",
    "fstrn = figure(width=800, height=250, title='Relax ', x_axis_type='log', toolbar_location='above', y_range=(0,150), x_range=(1e-2,5e4))\n",
    "fstrs = figure(width=800, height=600,  x_axis_type='log', toolbar_location='below', y_axis_type='log', x_range=(1e-2,5e4), y_range=(1,100))\n",
    "\n",
    "for (sps, swt, stepstn) in zip(steps_ps, steps_wait, steps_strain):\n",
    "\n",
    "    ps_now = data[data['step'] == sps]\n",
    "    swt_now = data[data['step'] == swt]\n",
    "    stepstn_now = data[data['step'] == stepstn]\n",
    "\n",
    "    tw, gamma, strs0 = swt_now['time'].iloc[-1], np.max(stepstn_now['strain']), stepstn_now['stress'].iloc[1]\n",
    "    ttot = swt_now['time_global'].iloc[0]\n",
    "\n",
    "    \n",
    "    c = next(idx_col)\n",
    "    c = Magma256[np.min([np.int16(gamma*256/200),255])]\n",
    "    dc = rh.darken(c, 0.85)\n",
    "\n",
    "    fstrn.scatter(stepstn_now['time'], stepstn_now['strain'], fill_color=c, line_color=dc)\n",
    "    fstrs.scatter(stepstn_now['time'], stepstn_now['stress'], fill_color=c, line_color=dc, legend_label='γ = {:3.1f} %, t = {:3.0f} s'.format(gamma, ttot))\n",
    "    \n",
    "fstrs.legend.location = 'bottom_left'\n",
    "fstrn.xaxis.axis_label, fstrn.yaxis.axis_label = ' ', 'γ (%)'\n",
    "fstrs.xaxis.axis_label, fstrs.yaxis.axis_label = 't (s)', 'σ (Pa)'\n",
    "\n",
    "show(column(fstrn, fstrs))\n"
   ]
  },
  {
   "cell_type": "code",
   "execution_count": 27,
   "metadata": {},
   "outputs": [
    {
     "data": {
      "text/plain": [
       "39.713142857142856"
      ]
     },
     "execution_count": 27,
     "metadata": {},
     "output_type": "execute_result"
    }
   ],
   "source": [
    "np.mean(stepstn_now['strain'])"
   ]
  },
  {
   "cell_type": "code",
   "execution_count": 22,
   "metadata": {},
   "outputs": [
    {
     "ename": "TypeError",
     "evalue": "'tuple' object is not an iterator",
     "output_type": "error",
     "traceback": [
      "\u001b[1;31m---------------------------------------------------------------------------\u001b[0m",
      "\u001b[1;31mTypeError\u001b[0m                                 Traceback (most recent call last)",
      "\u001b[1;32mC:\\Users\\SAINT-~1\\AppData\\Local\\Temp/ipykernel_6500/1377474766.py\u001b[0m in \u001b[0;36m<module>\u001b[1;34m\u001b[0m\n\u001b[0;32m      1\u001b[0m \u001b[0mcol\u001b[0m \u001b[1;33m=\u001b[0m \u001b[1;33m(\u001b[0m\u001b[1;34m'a'\u001b[0m\u001b[1;33m,\u001b[0m \u001b[1;34m'b'\u001b[0m\u001b[1;33m,\u001b[0m \u001b[1;34m'c'\u001b[0m\u001b[1;33m)\u001b[0m\u001b[1;33m\u001b[0m\u001b[1;33m\u001b[0m\u001b[0m\n\u001b[1;32m----> 2\u001b[1;33m \u001b[0mnext\u001b[0m\u001b[1;33m(\u001b[0m\u001b[0mcol\u001b[0m\u001b[1;33m)\u001b[0m\u001b[1;33m\u001b[0m\u001b[1;33m\u001b[0m\u001b[0m\n\u001b[0m",
      "\u001b[1;31mTypeError\u001b[0m: 'tuple' object is not an iterator"
     ]
    }
   ],
   "source": [
    "col = ('a', 'b', 'c')\n",
    "next(col)"
   ]
  },
  {
   "cell_type": "code",
   "execution_count": null,
   "metadata": {},
   "outputs": [],
   "source": [
    "import numpy as np\n",
    "from bokeh.plotting import figure, show\n",
    "from bokeh.models import ColumnDataSource, Patch, LinearColorMapper, Arrow, VeeHead, ColorBar\n",
    "from bokeh.palettes import Magma256\n",
    "from itertools import cycle\n",
    "\n",
    "theta = np.linspace(-np.pi, np.pi, 360)\n",
    "xy = lambda r, theta : (r*np.cos(theta), r*np.sin(theta))\n",
    "eps = lambda r, R0, R : (1 + (R0**3 - R**3)/r**3)**(2/3) - 1\n",
    "e_max = eps(1.2,1,1.2)\n",
    "c_idx = lambda val : round(255*val/e_max)\n",
    "color_map = Magma256\n",
    "cmapper = LinearColorMapper(low=0, high=-e_max, palette=color_map)\n",
    "color_bar = ColorBar(color_mapper=cmapper)\n",
    "\n",
    "f = figure(x_range=(-2.2,2.2), y_range=(-2.2,2.2), width=500, height=400, match_aspect=True)\n",
    "source_bg = ColumnDataSource(data={'x':[-3,3,3,-3], 'y':[3,3,-3,-3]})\n",
    "glyph_bg = Patch(x='x', y='y', fill_color='black')\n",
    "f.add_glyph(source_bg, glyph_bg)\n",
    "\n",
    "r_list = np.linspace(3,1.2,64)\n",
    "for r in r_list:\n",
    "    x,y = xy(r, theta)\n",
    "    c_now = color_map[c_idx(eps(r, 1, 1.2))]\n",
    "    source = ColumnDataSource(data={'x':x, 'y':y})\n",
    "    glyph = Patch(x='x', y='y', fill_color=c_now, line_color=c_now)\n",
    "    f.add_glyph(source, glyph)\n",
    "\n",
    "xb,yb = xy(1.2, theta)\n",
    "glyph_bb = Patch(x='x', y='y', fill_color='white', line_color='black')\n",
    "source_bb = ColumnDataSource(data={'x':xb, 'y':yb})\n",
    "f.add_glyph(source_bb, glyph_bb)\n",
    "\n",
    "x0,y0 = xy(1.0, theta)\n",
    "f.line(x0, y0, line_dash='dashed', line_color='gray')\n",
    "\n",
    "# f.image([[[-e_max, 0],[0, -e_max]]], dw=0.5, dh=0.5, x=0, y=0, color_mapper=cmapper)\n",
    "\n",
    "for th in np.linspace(-np.pi, np.pi*(1-1/10), 20):\n",
    "\n",
    "    f.add_layout(Arrow(end=VeeHead(size=5), line_color=\"black\",\n",
    "        x_start=1.02*np.cos(th), y_start=1.02*np.sin(th), \n",
    "        x_end=1.18*np.cos(th), y_end=1.18*np.sin(th)))\n",
    "\n",
    "    # f.line([1.2*np.cos(th), 3*np.cos(th)], [1.2*np.sin(th), 3*np.sin(th)], line_color='lightgray', line_dash='dotted')\n",
    "\n",
    "f.add_layout(color_bar, place='right')\n",
    "f.xaxis.axis_label, f.yaxis.axis_label ='x', 'y'\n",
    "\n",
    "show(f)"
   ]
  },
  {
   "cell_type": "code",
   "execution_count": null,
   "metadata": {},
   "outputs": [],
   "source": [
    "4/3*np.pi*5**-3"
   ]
  },
  {
   "cell_type": "code",
   "execution_count": null,
   "metadata": {},
   "outputs": [],
   "source": []
  }
 ],
 "metadata": {
  "interpreter": {
   "hash": "cb9c252e610b593a3421828f92740a33c32c552b9658c846af1824aa6c7c0cc9"
  },
  "kernelspec": {
   "display_name": "Python 3.9.7 64-bit",
   "language": "python",
   "name": "python3"
  },
  "language_info": {
   "codemirror_mode": {
    "name": "ipython",
    "version": 3
   },
   "file_extension": ".py",
   "mimetype": "text/x-python",
   "name": "python",
   "nbconvert_exporter": "python",
   "pygments_lexer": "ipython3",
   "version": "3.9.7"
  },
  "orig_nbformat": 4
 },
 "nbformat": 4,
 "nbformat_minor": 2
}
